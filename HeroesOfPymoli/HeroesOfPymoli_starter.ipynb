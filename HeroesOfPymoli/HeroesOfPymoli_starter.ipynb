{
 "cells": [
  {
   "cell_type": "markdown",
   "metadata": {},
   "source": [
    "### Note\n",
    "* Instructions have been included for each segment. You do not have to follow them exactly, but they are included to help you think through the steps."
   ]
  },
  {
   "cell_type": "code",
   "execution_count": null,
   "metadata": {},
   "outputs": [],
   "source": [
    "# Dependencies and Setup\n",
    "import pandas as pd\n",
    "from IPython.display import display\n",
    "\n",
    "# File to Load (Remember to Change These)\n",
    "file_to_load = \"Resources/purchase_data.csv\"\n",
    "\n",
    "# Read Purchasing File and store into Pandas data frame\n",
    "purchase_data = pd.read_csv(file_to_load)\n",
    "purchase_df = pd.DataFrame(purchase_data)\n",
    "purchase_df.head()"
   ]
  },
  {
   "cell_type": "markdown",
   "metadata": {},
   "source": [
    "## Player Count"
   ]
  },
  {
   "cell_type": "markdown",
   "metadata": {},
   "source": [
    "* Display the total number of players\n"
   ]
  },
  {
   "cell_type": "code",
   "execution_count": null,
   "metadata": {},
   "outputs": [],
   "source": [
    "players = purchase_df[\"SN\"].unique()\n",
    "total_player = len(players)\n",
    "print(\"Total player: \"+ str(total_player))"
   ]
  },
  {
   "cell_type": "markdown",
   "metadata": {},
   "source": [
    "## Purchasing Analysis (Total)"
   ]
  },
  {
   "cell_type": "markdown",
   "metadata": {},
   "source": [
    "* Run basic calculations to obtain number of unique items, average price, etc.\n",
    "\n",
    "\n",
    "* Create a summary data frame to hold the results\n",
    "\n",
    "\n",
    "* Optional: give the displayed data cleaner formatting\n",
    "\n",
    "\n",
    "* Display the summary data frame\n"
   ]
  },
  {
   "cell_type": "code",
   "execution_count": null,
   "metadata": {},
   "outputs": [],
   "source": [
    "# Number of Unique Items\n",
    "# Average Purchase Price\n",
    "# Total Number of Purchases\n",
    "# Total Revenue\n",
    "\n",
    "items = len(purchase_df[\"Item ID\"].unique())\n",
    "price_average = round(purchase_df[\"Price\"].mean(),2)\n",
    "purchase = len(purchase_df[\"Purchase ID\"])\n",
    "revenue = purchase_df[\"Price\"].sum()\n",
    "\n",
    "columns = ['Number of Unique Items', 'Average Price', 'Number of Purchases','Total Revenue']\n",
    "data = [items,price_average, purchase, revenue]\n",
    "summary_df = pd.DataFrame(data,columns)\n",
    "summary_df = summary_df.T\n",
    "\n",
    "summary_df[['Number of Unique Items', 'Number of Purchases']] = summary_df[['Number of Unique Items', \n",
    "                                                                            'Number of Purchases'\n",
    "                                                                           ]].applymap('{:,.0f}'.format)\n",
    "summary_df[['Average Price', 'Total Revenue']] = summary_df[['Average Price', \n",
    "                                                             'Total Revenue'\n",
    "                                                            ]].applymap('${:,.2f}'.format)\n",
    "\n",
    "summary_df\n"
   ]
  },
  {
   "cell_type": "markdown",
   "metadata": {},
   "source": [
    "## Gender Demographics"
   ]
  },
  {
   "cell_type": "markdown",
   "metadata": {},
   "source": [
    "* Percentage and Count of Male Players\n",
    "\n",
    "\n",
    "* Percentage and Count of Female Players\n",
    "\n",
    "\n",
    "* Percentage and Count of Other / Non-Disclosed\n",
    "\n",
    "\n"
   ]
  },
  {
   "cell_type": "code",
   "execution_count": null,
   "metadata": {},
   "outputs": [],
   "source": [
    "gd_demo_df = purchase_df.drop_duplicates(subset=\"SN\", keep=\"last\")\n",
    "gd_demo_df = pd.DataFrame(gd_demo_df[\"Gender\"].value_counts())\n",
    "gd_demo_df[\"Percentage\"] = (gd_demo_df[\"Gender\"]/gd_demo_df[\"Gender\"].sum()).map('{:.2%}'.format)\n",
    "gd_demo_df"
   ]
  },
  {
   "cell_type": "markdown",
   "metadata": {},
   "source": [
    "\n",
    "## Purchasing Analysis (Gender)"
   ]
  },
  {
   "cell_type": "markdown",
   "metadata": {},
   "source": [
    "* Run basic calculations to obtain purchase count, avg. purchase price, avg. purchase total per person etc. by gender\n",
    "\n",
    "\n",
    "\n",
    "\n",
    "* Create a summary data frame to hold the results\n",
    "\n",
    "\n",
    "* Optional: give the displayed data cleaner formatting\n",
    "\n",
    "\n",
    "* Display the summary data frame"
   ]
  },
  {
   "cell_type": "code",
   "execution_count": null,
   "metadata": {},
   "outputs": [],
   "source": [
    "pa_gender_df = purchase_df.groupby(\"Gender\").agg({\"SN\":\"count\",\n",
    "                                                 \"Price\":[\"mean\", \"sum\"],\n",
    "                                                })\n",
    "pa_gender_df.columns = [\"Purchase Count\", \n",
    "                        \"Average Purchase Price\", \n",
    "                        \"Total Purchase Value\"\n",
    "                       ]\n",
    "pa_gender_df[\"Avg Total Purchase per Person\"] = pa_gender_df[\"Total Purchase Value\"]/gd_demo_df[\"Gender\"]\n",
    "pa_gender_df[[\"Average Purchase Price\", \"Total Purchase Value\",\"Avg Total Purchase per Person\"]] = pa_gender_df[[\"Average Purchase Price\",\n",
    "                                                                                                                \"Total Purchase Value\",\n",
    "                                                                                                                \"Avg Total Purchase per Person\"\n",
    "                                                                                                               ]].applymap('${:,.2f}'.format)\n",
    "pa_gender_df[\"Purchase Count\"] = pa_gender_df[\"Purchase Count\"].map('{:,.0f}'.format)\n",
    "pa_gender_df\n"
   ]
  },
  {
   "cell_type": "markdown",
   "metadata": {},
   "source": [
    "## Age Demographics"
   ]
  },
  {
   "cell_type": "markdown",
   "metadata": {},
   "source": [
    "* Establish bins for ages\n",
    "\n",
    "\n",
    "* Categorize the existing players using the age bins. Hint: use pd.cut()\n",
    "\n",
    "\n",
    "* Calculate the numbers and percentages by age group\n",
    "\n",
    "\n",
    "* Create a summary data frame to hold the results\n",
    "\n",
    "\n",
    "* Optional: round the percentage column to two decimal points\n",
    "\n",
    "\n",
    "* Display Age Demographics Table\n"
   ]
  },
  {
   "cell_type": "code",
   "execution_count": null,
   "metadata": {},
   "outputs": [],
   "source": [
    "bins = [0, 9, 14, 19, 24, 29, 34, 39, 50]\n",
    "group_labels = [\"<10\", \"10-14\", \"15-19\", \"20-24\", \"25-29\", \"30-34\",\"35-39\", \"40+\"]\n",
    "purchase_df[\"Age ranges\"] = pd.cut(purchase_df[\"Age\"], bins, labels=group_labels)\n",
    "age_demo_df = purchase_df.drop_duplicates(subset=\"SN\", keep=\"last\")\n",
    "age_demo_df = age_demo_df.groupby(\"Age ranges\").count()\n",
    "age_demo_df[\"Percentage of Players\"] = (age_demo_df[\"SN\"]/total_player).map('{:.2%}'.format)\n",
    "age_demo_df = age_demo_df[[\"Purchase ID\",\"Percentage of Players\"]]\n",
    "age_demo_df = age_demo_df.rename(columns={\"Purchase ID\": \"Total count\"})\n",
    "age_demo_df"
   ]
  },
  {
   "cell_type": "markdown",
   "metadata": {},
   "source": [
    "## Purchasing Analysis (Age)"
   ]
  },
  {
   "cell_type": "markdown",
   "metadata": {},
   "source": [
    "* Bin the purchase_data data frame by age\n",
    "\n",
    "\n",
    "* Run basic calculations to obtain purchase count, avg. purchase price, avg. purchase total per person etc. in the table below\n",
    "\n",
    "\n",
    "* Create a summary data frame to hold the results\n",
    "\n",
    "\n",
    "* Optional: give the displayed data cleaner formatting\n",
    "\n",
    "\n",
    "* Display the summary data frame"
   ]
  },
  {
   "cell_type": "code",
   "execution_count": null,
   "metadata": {},
   "outputs": [],
   "source": [
    "pa_age_df = purchase_df.groupby(\"Age ranges\").agg({\"Purchase ID\":\"count\",\n",
    "                                                  \"Price\":[\"mean\", \"sum\"],\n",
    "                                                  })\n",
    "pa_age_df.columns = [\"Purchase Count\", \n",
    "                     \"Average Purchase Price\", \n",
    "                     \"Total Purchase Value\"\n",
    "                    ]\n",
    "pa_age_df[\"Avg Total Purchase per Person\"] = pa_age_df[\"Total Purchase Value\"]/age_demo_df[\"Total count\"]\n",
    "pa_age_df[[\"Average Purchase Price\",\"Total Purchase Value\",\"Avg Total Purchase per Person\"]] = pa_age_df[[\"Average Purchase Price\",\n",
    "                                                                                                          \"Total Purchase Value\",\n",
    "                                                                                                          \"Avg Total Purchase per Person\"\n",
    "                                                                                                        ]].applymap('${:,.2f}'.format)\n",
    "pa_age_df"
   ]
  },
  {
   "cell_type": "markdown",
   "metadata": {},
   "source": [
    "## Top Spenders"
   ]
  },
  {
   "cell_type": "markdown",
   "metadata": {},
   "source": [
    "* Run basic calculations to obtain the results in the table below\n",
    "\n",
    "\n",
    "* Create a summary data frame to hold the results\n",
    "\n",
    "\n",
    "* Sort the total purchase value column in descending order\n",
    "\n",
    "\n",
    "* Optional: give the displayed data cleaner formatting\n",
    "\n",
    "\n",
    "* Display a preview of the summary data frame\n",
    "\n"
   ]
  },
  {
   "cell_type": "code",
   "execution_count": null,
   "metadata": {},
   "outputs": [],
   "source": [
    "top_spender_df = purchase_df.groupby('SN').agg({\n",
    "    'Purchase ID': 'count',\n",
    "    'Price': ['mean', 'sum']\n",
    "})\n",
    "top_spender_df.columns = ['Purchase Count', 'Average Purchase Price', 'Total Purchase Value']\n",
    "top_spender_df = top_spender_df.sort_values([\"Total Purchase Value\"], ascending=False).head(5)\n",
    "top_spender_df[[\"Average Purchase Price\",\"Total Purchase Value\"]] = top_spender_df[[\"Average Purchase Price\",\n",
    "                                                                                    \"Total Purchase Value\",\n",
    "                                                                                   ]].applymap('${:,.2f}'.format)\n",
    "top_spender_df"
   ]
  },
  {
   "cell_type": "markdown",
   "metadata": {},
   "source": [
    "## Most Popular Items"
   ]
  },
  {
   "cell_type": "code",
   "execution_count": null,
   "metadata": {},
   "outputs": [],
   "source": [
    "item_df = purchase_df.loc[:,[\"Item ID\", \"Item Name\", \"Price\"]].groupby([\"Item ID\", \"Item Name\"]).agg({\"Item ID\":\"count\",\n",
    "                                                                                                          \"Price\":[\"mean\",\"sum\"]\n",
    "                                                                                                         })\n",
    "item_df.columns = [\"Purchase Count\", \"Item Price\", \"Total Purchase Value\"]\n",
    "\n",
    "pop_item_df = item_df.sort_values([\"Purchase Count\"], ascending=False).head()\n",
    "pop_item_df[[\"Item Price\",\"Total Purchase Value\"]] = pop_item_df[[\"Item Price\",\n",
    "                                                                  \"Total Purchase Value\",\n",
    "                                                                 ]].applymap('${:,.2f}'.format)\n",
    "\n",
    "\n",
    "pop_item_df"
   ]
  },
  {
   "cell_type": "markdown",
   "metadata": {},
   "source": [
    "* Retrieve the Item ID, Item Name, and Item Price columns\n",
    "\n",
    "\n",
    "* Group by Item ID and Item Name. Perform calculations to obtain purchase count, item price, and total purchase value\n",
    "\n",
    "\n",
    "* Create a summary data frame to hold the results\n",
    "\n",
    "\n",
    "* Sort the purchase count column in descending order\n",
    "\n",
    "\n",
    "* Optional: give the displayed data cleaner formatting\n",
    "\n",
    "\n",
    "* Display a preview of the summary data frame\n",
    "\n"
   ]
  },
  {
   "cell_type": "markdown",
   "metadata": {},
   "source": [
    "## Most Profitable Items"
   ]
  },
  {
   "cell_type": "markdown",
   "metadata": {},
   "source": [
    "* Sort the above table by total purchase value in descending order\n",
    "\n",
    "\n",
    "* Optional: give the displayed data cleaner formatting\n",
    "\n",
    "\n",
    "* Display a preview of the data frame\n",
    "\n"
   ]
  },
  {
   "cell_type": "code",
   "execution_count": null,
   "metadata": {},
   "outputs": [],
   "source": [
    "profit_item_df = item_df.sort_values([\"Total Purchase Value\"], ascending=False).head()\n",
    "profit_item_df[[\"Item Price\",\"Total Purchase Value\"]] = profit_item_df[[\"Item Price\",\n",
    "                                                                  \"Total Purchase Value\",\n",
    "                                                                 ]].applymap('${:,.2f}'.format)\n",
    "profit_item_df\n"
   ]
  },
  {
   "cell_type": "code",
   "execution_count": null,
   "metadata": {},
   "outputs": [],
   "source": []
  }
 ],
 "metadata": {
  "anaconda-cloud": {},
  "kernel_info": {
   "name": "python3"
  },
  "kernelspec": {
   "display_name": "Python 3",
   "language": "python",
   "name": "python3"
  },
  "language_info": {
   "codemirror_mode": {
    "name": "ipython",
    "version": 3
   },
   "file_extension": ".py",
   "mimetype": "text/x-python",
   "name": "python",
   "nbconvert_exporter": "python",
   "pygments_lexer": "ipython3",
   "version": "3.7.4"
  },
  "latex_envs": {
   "LaTeX_envs_menu_present": true,
   "autoclose": false,
   "autocomplete": true,
   "bibliofile": "biblio.bib",
   "cite_by": "apalike",
   "current_citInitial": 1,
   "eqLabelWithNumbers": true,
   "eqNumInitial": 1,
   "hotkeys": {
    "equation": "Ctrl-E",
    "itemize": "Ctrl-I"
   },
   "labels_anchors": false,
   "latex_user_defs": false,
   "report_style_numbering": false,
   "user_envs_cfg": false
  },
  "nteract": {
   "version": "0.2.0"
  }
 },
 "nbformat": 4,
 "nbformat_minor": 2
}
